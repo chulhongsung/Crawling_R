{
 "cells": [
  {
   "cell_type": "markdown",
   "metadata": {},
   "source": [
    "## 'rvest' packages"
   ]
  },
  {
   "cell_type": "code",
   "execution_count": 35,
   "metadata": {
    "collapsed": true
   },
   "outputs": [
    {
     "name": "stderr",
     "output_type": "stream",
     "text": [
      "Loading required package: dplyr\n",
      "Warning message:\n",
      "\"package 'dplyr' was built under R version 3.5.2\"\n",
      "Attaching package: 'dplyr'\n",
      "\n",
      "The following objects are masked from 'package:stats':\n",
      "\n",
      "    filter, lag\n",
      "\n",
      "The following objects are masked from 'package:base':\n",
      "\n",
      "    intersect, setdiff, setequal, union\n",
      "\n"
     ]
    }
   ],
   "source": [
    "require(dplyr)"
   ]
  },
  {
   "cell_type": "code",
   "execution_count": 1,
   "metadata": {},
   "outputs": [
    {
     "name": "stderr",
     "output_type": "stream",
     "text": [
      "Loading required package: rvest\n",
      "Warning message:\n",
      "\"package 'rvest' was built under R version 3.5.2\"Loading required package: xml2\n",
      "Warning message:\n",
      "\"package 'xml2' was built under R version 3.5.2\""
     ]
    }
   ],
   "source": [
    "require(rvest)"
   ]
  },
  {
   "cell_type": "code",
   "execution_count": 2,
   "metadata": {
    "collapsed": true
   },
   "outputs": [],
   "source": [
    "url <- 'https://sports.news.naver.com/esports/news/read.nhn?oid=347&aid=0000127317'"
   ]
  },
  {
   "cell_type": "code",
   "execution_count": 3,
   "metadata": {},
   "outputs": [
    {
     "data": {
      "text/plain": [
       "{xml_document}\n",
       "<html lang=\"ko\">\n",
       "[1] <head>\\n<meta http-equiv=\"Content-Type\" content=\"text/html; charset=UTF-8 ...\n",
       "[2] <body>\\n\\n<div id=\"u_skip\">\\n\\t<a href=\"#lnb_main_sub\" onclick=\"document. ..."
      ]
     },
     "metadata": {},
     "output_type": "display_data"
    }
   ],
   "source": [
    "read_html(url)"
   ]
  },
  {
   "cell_type": "code",
   "execution_count": 4,
   "metadata": {},
   "outputs": [
    {
     "data": {
      "text/plain": [
       "{xml_nodeset (1)}\n",
       "[1] <h4 class=\"title\">'6연승' 그리핀, ESPN 파워랭킹 1위 수성…샌드박스는 8위 도약</h4>"
      ]
     },
     "metadata": {},
     "output_type": "display_data"
    }
   ],
   "source": [
    "read_html(url) %>% html_nodes(\"h4\")"
   ]
  },
  {
   "cell_type": "code",
   "execution_count": 5,
   "metadata": {
    "scrolled": true
   },
   "outputs": [
    {
     "data": {
      "text/plain": [
       "{xml_nodeset (1)}\n",
       "[1] <h4 class=\"title\">'6연승' 그리핀, ESPN 파워랭킹 1위 수성…샌드박스는 8위 도약</h4>"
      ]
     },
     "metadata": {},
     "output_type": "display_data"
    }
   ],
   "source": [
    "read_html(url) %>% html_nodes(\"h4[class = 'title']\")"
   ]
  },
  {
   "cell_type": "code",
   "execution_count": 34,
   "metadata": {},
   "outputs": [
    {
     "data": {
      "text/html": [
       "'title'"
      ],
      "text/latex": [
       "'title'"
      ],
      "text/markdown": [
       "'title'"
      ],
      "text/plain": [
       "[1] \"title\""
      ]
     },
     "metadata": {},
     "output_type": "display_data"
    }
   ],
   "source": [
    "read_html(url) %>% html_nodes(\"h4\") %>% html_attr('class')"
   ]
  },
  {
   "cell_type": "code",
   "execution_count": 6,
   "metadata": {
    "scrolled": true
   },
   "outputs": [
    {
     "data": {
      "text/plain": [
       "{xml_nodeset (1)}\n",
       "[1] <h4 class=\"title\">'6연승' 그리핀, ESPN 파워랭킹 1위 수성…샌드박스는 8위 도약</h4>"
      ]
     },
     "metadata": {},
     "output_type": "display_data"
    }
   ],
   "source": [
    "read_html(url) %>% html_nodes(\"h4.title\") ### attr이 id이면 #으로, class이면 ."
   ]
  },
  {
   "cell_type": "code",
   "execution_count": 31,
   "metadata": {
    "scrolled": true
   },
   "outputs": [
    {
     "data": {
      "text/html": [
       "'\\'6연승\\' 그리핀, ESPN 파워랭킹 1위 수성…샌드박스는 8위 도약'"
      ],
      "text/latex": [
       "'\\textbackslash{}'6연승\\textbackslash{}' 그리핀, ESPN 파워랭킹 1위 수성…샌드박스는 8위 도약'"
      ],
      "text/markdown": [
       "'\\'6연승\\' 그리핀, ESPN 파워랭킹 1위 수성…샌드박스는 8위 도약'"
      ],
      "text/plain": [
       "[1] \"'6연승' 그리핀, ESPN 파워랭킹 1위 수성…샌드박스는 8위 도약\""
      ]
     },
     "metadata": {},
     "output_type": "display_data"
    }
   ],
   "source": [
    "read_html(url) %>% html_nodes(\"h4\") %>% html_text"
   ]
  },
  {
   "cell_type": "markdown",
   "metadata": {},
   "source": [
    "## 'httr' packages"
   ]
  },
  {
   "cell_type": "code",
   "execution_count": 28,
   "metadata": {},
   "outputs": [
    {
     "name": "stderr",
     "output_type": "stream",
     "text": [
      "Loading required package: httr\n"
     ]
    }
   ],
   "source": [
    "require(httr)"
   ]
  },
  {
   "cell_type": "code",
   "execution_count": 29,
   "metadata": {},
   "outputs": [
    {
     "data": {
      "text/plain": [
       "Response [https://sports.news.naver.com/esports/news/read.nhn?oid=347&aid=0000127317]\n",
       "  Date: 2019-02-06 10:44\n",
       "  Status: 200\n",
       "  Content-Type: text/html;charset=UTF-8\n",
       "  Size: 138 kB\n",
       "<!DOCTYPE html>\n",
       "<html lang=\"ko\">\n",
       "<head>\n",
       "\t<meta charset=\"UTF-8\">\n",
       "\t<meta http-equiv=\"X-UA-Compatible\" content=\"IE=edge\">\n",
       "\t<meta http-equiv=\"X-UA-Compatible\" content=\"requiresActiveX=true\">\n",
       "\t<meta name=\"viewport\" content=\"width=1080px,maximum-scale=2.0,minimum-scale=...\n",
       "\t\n",
       "\t\t\n",
       "\t\t<meta property=\"og:type\"        content=\"article\"/>\n",
       "..."
      ]
     },
     "metadata": {},
     "output_type": "display_data"
    }
   ],
   "source": [
    "GET(url)"
   ]
  },
  {
   "cell_type": "code",
   "execution_count": 36,
   "metadata": {
    "scrolled": true
   },
   "outputs": [
    {
     "data": {
      "text/plain": [
       "{xml_document}\n",
       "<html lang=\"ko\">\n",
       "[1] <head>\\n<meta http-equiv=\"Content-Type\" content=\"text/html; charset=UTF-8 ...\n",
       "[2] <body>\\n\\n<div id=\"u_skip\">\\n\\t<a href=\"#lnb_main_sub\" onclick=\"document. ..."
      ]
     },
     "metadata": {},
     "output_type": "display_data"
    }
   ],
   "source": [
    "GET(url) %>% content()"
   ]
  },
  {
   "cell_type": "code",
   "execution_count": 37,
   "metadata": {},
   "outputs": [
    {
     "data": {
      "text/plain": [
       "Response [http://httpbin.org/]\n",
       "  Date: 2019-02-06 10:50\n",
       "  Status: 200\n",
       "  Content-Type: text/html; charset=utf-8\n",
       "  Size: 10.1 kB\n",
       "<!DOCTYPE html>\n",
       "<html lang=\"en\">\n",
       "\n",
       "<head>\n",
       "    <meta charset=\"UTF-8\">\n",
       "    <title>httpbin.org</title>\n",
       "    <link href=\"https://fonts.googleapis.com/css?family=Open+Sans:400,700|Sou...\n",
       "        rel=\"stylesheet\">\n",
       "    <link rel=\"stylesheet\" type=\"text/css\" href=\"/flasgger_static/swagger-ui....\n",
       "    <link rel=\"icon\" type=\"image/png\" href=\"/static/favicon.ico\" sizes=\"64x64...\n",
       "..."
      ]
     },
     "metadata": {},
     "output_type": "display_data"
    }
   ],
   "source": [
    "GET('http://httpbin.org/') ### httpbin.org는 연습용 사이트"
   ]
  },
  {
   "cell_type": "code",
   "execution_count": 39,
   "metadata": {},
   "outputs": [
    {
     "data": {
      "text/html": [
       "<dl>\n",
       "\t<dt>$args</dt>\n",
       "\t\t<dd><dl>\n",
       "</dl>\n",
       "</dd>\n",
       "\t<dt>$headers</dt>\n",
       "\t\t<dd><dl>\n",
       "\t<dt>$Accept</dt>\n",
       "\t\t<dd>'application/json, text/xml, application/xml, */*'</dd>\n",
       "\t<dt>$`Accept-Encoding`</dt>\n",
       "\t\t<dd>'gzip, deflate'</dd>\n",
       "\t<dt>$Connection</dt>\n",
       "\t\t<dd>'close'</dd>\n",
       "\t<dt>$Host</dt>\n",
       "\t\t<dd>'httpbin.org'</dd>\n",
       "\t<dt>$`User-Agent`</dt>\n",
       "\t\t<dd>'libcurl/7.59.0 r-curl/3.2 httr/1.3.1'</dd>\n",
       "</dl>\n",
       "</dd>\n",
       "\t<dt>$origin</dt>\n",
       "\t\t<dd>'110.34.116.30'</dd>\n",
       "\t<dt>$url</dt>\n",
       "\t\t<dd>'http://httpbin.org/get'</dd>\n",
       "</dl>\n"
      ],
      "text/latex": [
       "\\begin{description}\n",
       "\\item[\\$args] \\begin{description}\n",
       "\\end{description}\n",
       "\n",
       "\\item[\\$headers] \\begin{description}\n",
       "\\item[\\$Accept] 'application/json, text/xml, application/xml, */*'\n",
       "\\item[\\$`Accept-Encoding`] 'gzip, deflate'\n",
       "\\item[\\$Connection] 'close'\n",
       "\\item[\\$Host] 'httpbin.org'\n",
       "\\item[\\$`User-Agent`] 'libcurl/7.59.0 r-curl/3.2 httr/1.3.1'\n",
       "\\end{description}\n",
       "\n",
       "\\item[\\$origin] '110.34.116.30'\n",
       "\\item[\\$url] 'http://httpbin.org/get'\n",
       "\\end{description}\n"
      ],
      "text/markdown": [
       "$args\n",
       ":   \n",
       "\n",
       "\n",
       "$headers\n",
       ":   $Accept\n",
       ":   'application/json, text/xml, application/xml, */*'\n",
       "$`Accept-Encoding`\n",
       ":   'gzip, deflate'\n",
       "$Connection\n",
       ":   'close'\n",
       "$Host\n",
       ":   'httpbin.org'\n",
       "$`User-Agent`\n",
       ":   'libcurl/7.59.0 r-curl/3.2 httr/1.3.1'\n",
       "\n",
       "\n",
       "\n",
       "$origin\n",
       ":   '110.34.116.30'\n",
       "$url\n",
       ":   'http://httpbin.org/get'\n",
       "\n",
       "\n"
      ],
      "text/plain": [
       "$args\n",
       "named list()\n",
       "\n",
       "$headers\n",
       "$headers$Accept\n",
       "[1] \"application/json, text/xml, application/xml, */*\"\n",
       "\n",
       "$headers$`Accept-Encoding`\n",
       "[1] \"gzip, deflate\"\n",
       "\n",
       "$headers$Connection\n",
       "[1] \"close\"\n",
       "\n",
       "$headers$Host\n",
       "[1] \"httpbin.org\"\n",
       "\n",
       "$headers$`User-Agent`\n",
       "[1] \"libcurl/7.59.0 r-curl/3.2 httr/1.3.1\"\n",
       "\n",
       "\n",
       "$origin\n",
       "[1] \"110.34.116.30\"\n",
       "\n",
       "$url\n",
       "[1] \"http://httpbin.org/get\"\n"
      ]
     },
     "metadata": {},
     "output_type": "display_data"
    }
   ],
   "source": [
    "GET('http://httpbin.org/get') %>% content"
   ]
  },
  {
   "cell_type": "code",
   "execution_count": 41,
   "metadata": {},
   "outputs": [],
   "source": [
    " ah <- httr::add_headers('User-Agent' = \"chulhongsung's test\")"
   ]
  },
  {
   "cell_type": "code",
   "execution_count": 42,
   "metadata": {},
   "outputs": [
    {
     "data": {
      "text/html": [
       "<dl>\n",
       "\t<dt>$args</dt>\n",
       "\t\t<dd><dl>\n",
       "</dl>\n",
       "</dd>\n",
       "\t<dt>$headers</dt>\n",
       "\t\t<dd><dl>\n",
       "\t<dt>$Accept</dt>\n",
       "\t\t<dd>'application/json, text/xml, application/xml, */*'</dd>\n",
       "\t<dt>$`Accept-Encoding`</dt>\n",
       "\t\t<dd>'gzip, deflate'</dd>\n",
       "\t<dt>$Connection</dt>\n",
       "\t\t<dd>'close'</dd>\n",
       "\t<dt>$Host</dt>\n",
       "\t\t<dd>'httpbin.org'</dd>\n",
       "\t<dt>$`User-Agent`</dt>\n",
       "\t\t<dd>'chulhongsung\\'s test'</dd>\n",
       "</dl>\n",
       "</dd>\n",
       "\t<dt>$origin</dt>\n",
       "\t\t<dd>'110.34.116.30'</dd>\n",
       "\t<dt>$url</dt>\n",
       "\t\t<dd>'http://httpbin.org/get'</dd>\n",
       "</dl>\n"
      ],
      "text/latex": [
       "\\begin{description}\n",
       "\\item[\\$args] \\begin{description}\n",
       "\\end{description}\n",
       "\n",
       "\\item[\\$headers] \\begin{description}\n",
       "\\item[\\$Accept] 'application/json, text/xml, application/xml, */*'\n",
       "\\item[\\$`Accept-Encoding`] 'gzip, deflate'\n",
       "\\item[\\$Connection] 'close'\n",
       "\\item[\\$Host] 'httpbin.org'\n",
       "\\item[\\$`User-Agent`] 'chulhongsung\\textbackslash{}'s test'\n",
       "\\end{description}\n",
       "\n",
       "\\item[\\$origin] '110.34.116.30'\n",
       "\\item[\\$url] 'http://httpbin.org/get'\n",
       "\\end{description}\n"
      ],
      "text/markdown": [
       "$args\n",
       ":   \n",
       "\n",
       "\n",
       "$headers\n",
       ":   $Accept\n",
       ":   'application/json, text/xml, application/xml, */*'\n",
       "$`Accept-Encoding`\n",
       ":   'gzip, deflate'\n",
       "$Connection\n",
       ":   'close'\n",
       "$Host\n",
       ":   'httpbin.org'\n",
       "$`User-Agent`\n",
       ":   'chulhongsung\\'s test'\n",
       "\n",
       "\n",
       "\n",
       "$origin\n",
       ":   '110.34.116.30'\n",
       "$url\n",
       ":   'http://httpbin.org/get'\n",
       "\n",
       "\n"
      ],
      "text/plain": [
       "$args\n",
       "named list()\n",
       "\n",
       "$headers\n",
       "$headers$Accept\n",
       "[1] \"application/json, text/xml, application/xml, */*\"\n",
       "\n",
       "$headers$`Accept-Encoding`\n",
       "[1] \"gzip, deflate\"\n",
       "\n",
       "$headers$Connection\n",
       "[1] \"close\"\n",
       "\n",
       "$headers$Host\n",
       "[1] \"httpbin.org\"\n",
       "\n",
       "$headers$`User-Agent`\n",
       "[1] \"chulhongsung's test\"\n",
       "\n",
       "\n",
       "$origin\n",
       "[1] \"110.34.116.30\"\n",
       "\n",
       "$url\n",
       "[1] \"http://httpbin.org/get\"\n"
      ]
     },
     "metadata": {},
     "output_type": "display_data"
    }
   ],
   "source": [
    "GET('http://httpbin.org/get', ah) %>% content"
   ]
  },
  {
   "cell_type": "code",
   "execution_count": null,
   "metadata": {
    "collapsed": true
   },
   "outputs": [],
   "source": []
  }
 ],
 "metadata": {
  "kernelspec": {
   "display_name": "R",
   "language": "R",
   "name": "ir"
  },
  "language_info": {
   "codemirror_mode": "r",
   "file_extension": ".r",
   "mimetype": "text/x-r-source",
   "name": "R",
   "pygments_lexer": "r",
   "version": "3.5.1"
  }
 },
 "nbformat": 4,
 "nbformat_minor": 2
}
